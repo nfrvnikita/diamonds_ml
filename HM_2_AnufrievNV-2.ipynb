{
 "cells": [
  {
   "cell_type": "markdown",
   "id": "7b5c3d19",
   "metadata": {},
   "source": [
    "# Ануфриев Н.В.\n",
    "# Diamond price prediction\n",
    "\n",
    "Цель - наилучшим способом используя линейные регрессии предсказать цену брильянта.\n",
    "\n",
    "- price: цена в usd\n",
    "- carat: вeс в каратах\n",
    "- cut: качество огранки (Fair, Good, Very Good, Premium, Ideal)\n",
    "- color: цветность брильянта (степень \"желтезны\"), от J (плохая) до D (наилучшая) \n",
    "- clarity: чистота брильянта (I1 (плохая), SI2, SI1, VS2, VS1, VVS2, VVS1, IF (наилучшая)) \n",
    "- x: длинна в мм\n",
    "- y: ширина в мм\n",
    "- z: глубина в мм\n",
    "- depth: общий процент глубины = z / mean(x, y) = 2 * z / (x + y)\n",
    "- table: ширина вершины ромба относительно самого широкого места"
   ]
  },
  {
   "cell_type": "markdown",
   "id": "d2439434",
   "metadata": {},
   "source": [
    "### 1. Импортируем библиотеки"
   ]
  },
  {
   "cell_type": "code",
   "execution_count": 1,
   "id": "c061a989",
   "metadata": {},
   "outputs": [],
   "source": [
    "import pandas as pd\n",
    "import numpy as np\n",
    "import matplotlib.pyplot as plt\n",
    "import seaborn as sns\n",
    "\n",
    "from sklearn.preprocessing import LabelEncoder\n",
    "from sklearn.pipeline import make_pipeline\n",
    "from sklearn.datasets import make_regression\n",
    "from sklearn.model_selection import train_test_split\n",
    "from sklearn.linear_model import LinearRegression\n",
    "from sklearn.preprocessing import MinMaxScaler, PolynomialFeatures\n",
    "from sklearn.feature_selection import RFE\n",
    "from sklearn.linear_model import Ridge\n",
    "from sklearn.model_selection import learning_curve\n",
    "from sklearn.model_selection import ShuffleSplit\n",
    "from sklearn.linear_model import Lasso"
   ]
  },
  {
   "cell_type": "markdown",
   "id": "2a510461",
   "metadata": {},
   "source": [
    "### 2. Загружаем датасет"
   ]
  },
  {
   "cell_type": "code",
   "execution_count": 2,
   "id": "49e7f216",
   "metadata": {},
   "outputs": [
    {
     "data": {
      "text/html": [
       "<div>\n",
       "<style scoped>\n",
       "    .dataframe tbody tr th:only-of-type {\n",
       "        vertical-align: middle;\n",
       "    }\n",
       "\n",
       "    .dataframe tbody tr th {\n",
       "        vertical-align: top;\n",
       "    }\n",
       "\n",
       "    .dataframe thead th {\n",
       "        text-align: right;\n",
       "    }\n",
       "</style>\n",
       "<table border=\"1\" class=\"dataframe\">\n",
       "  <thead>\n",
       "    <tr style=\"text-align: right;\">\n",
       "      <th></th>\n",
       "      <th>carat</th>\n",
       "      <th>cut</th>\n",
       "      <th>color</th>\n",
       "      <th>clarity</th>\n",
       "      <th>depth</th>\n",
       "      <th>table</th>\n",
       "      <th>price</th>\n",
       "      <th>x</th>\n",
       "      <th>y</th>\n",
       "      <th>z</th>\n",
       "    </tr>\n",
       "  </thead>\n",
       "  <tbody>\n",
       "    <tr>\n",
       "      <th>0</th>\n",
       "      <td>0.55</td>\n",
       "      <td>Ideal</td>\n",
       "      <td>I</td>\n",
       "      <td>SI1</td>\n",
       "      <td>61.7</td>\n",
       "      <td>55.0</td>\n",
       "      <td>1134</td>\n",
       "      <td>5.29</td>\n",
       "      <td>5.31</td>\n",
       "      <td>3.27</td>\n",
       "    </tr>\n",
       "    <tr>\n",
       "      <th>1</th>\n",
       "      <td>0.94</td>\n",
       "      <td>Premium</td>\n",
       "      <td>E</td>\n",
       "      <td>SI1</td>\n",
       "      <td>62.4</td>\n",
       "      <td>56.0</td>\n",
       "      <td>4580</td>\n",
       "      <td>6.27</td>\n",
       "      <td>6.24</td>\n",
       "      <td>3.90</td>\n",
       "    </tr>\n",
       "    <tr>\n",
       "      <th>2</th>\n",
       "      <td>0.33</td>\n",
       "      <td>Premium</td>\n",
       "      <td>E</td>\n",
       "      <td>SI2</td>\n",
       "      <td>60.0</td>\n",
       "      <td>59.0</td>\n",
       "      <td>594</td>\n",
       "      <td>4.49</td>\n",
       "      <td>4.47</td>\n",
       "      <td>2.69</td>\n",
       "    </tr>\n",
       "    <tr>\n",
       "      <th>3</th>\n",
       "      <td>0.31</td>\n",
       "      <td>Ideal</td>\n",
       "      <td>D</td>\n",
       "      <td>VS2</td>\n",
       "      <td>59.4</td>\n",
       "      <td>56.0</td>\n",
       "      <td>879</td>\n",
       "      <td>4.45</td>\n",
       "      <td>4.40</td>\n",
       "      <td>2.63</td>\n",
       "    </tr>\n",
       "    <tr>\n",
       "      <th>4</th>\n",
       "      <td>2.01</td>\n",
       "      <td>Very Good</td>\n",
       "      <td>H</td>\n",
       "      <td>SI1</td>\n",
       "      <td>62.8</td>\n",
       "      <td>59.0</td>\n",
       "      <td>17759</td>\n",
       "      <td>7.99</td>\n",
       "      <td>8.04</td>\n",
       "      <td>5.03</td>\n",
       "    </tr>\n",
       "  </tbody>\n",
       "</table>\n",
       "</div>"
      ],
      "text/plain": [
       "   carat        cut color clarity  depth  table  price     x     y     z\n",
       "0   0.55      Ideal     I     SI1   61.7   55.0   1134  5.29  5.31  3.27\n",
       "1   0.94    Premium     E     SI1   62.4   56.0   4580  6.27  6.24  3.90\n",
       "2   0.33    Premium     E     SI2   60.0   59.0    594  4.49  4.47  2.69\n",
       "3   0.31      Ideal     D     VS2   59.4   56.0    879  4.45  4.40  2.63\n",
       "4   2.01  Very Good     H     SI1   62.8   59.0  17759  7.99  8.04  5.03"
      ]
     },
     "execution_count": 2,
     "metadata": {},
     "output_type": "execute_result"
    }
   ],
   "source": [
    "train_df = pd.read_csv('train.csv', sep=',')\n",
    "train_df.head()"
   ]
  },
  {
   "cell_type": "code",
   "execution_count": 3,
   "id": "8444fabf",
   "metadata": {},
   "outputs": [
    {
     "data": {
      "text/plain": [
       "(40455, 10)"
      ]
     },
     "execution_count": 3,
     "metadata": {},
     "output_type": "execute_result"
    }
   ],
   "source": [
    "# Смотрим размер тренировочного датасета\n",
    "\n",
    "train_df.shape"
   ]
  },
  {
   "cell_type": "code",
   "execution_count": 4,
   "id": "3816b6f1",
   "metadata": {},
   "outputs": [
    {
     "name": "stdout",
     "output_type": "stream",
     "text": [
      "<class 'pandas.core.frame.DataFrame'>\n",
      "RangeIndex: 40455 entries, 0 to 40454\n",
      "Data columns (total 10 columns):\n",
      " #   Column   Non-Null Count  Dtype  \n",
      "---  ------   --------------  -----  \n",
      " 0   carat    40455 non-null  float64\n",
      " 1   cut      40455 non-null  object \n",
      " 2   color    40455 non-null  object \n",
      " 3   clarity  40455 non-null  object \n",
      " 4   depth    40455 non-null  float64\n",
      " 5   table    40455 non-null  float64\n",
      " 6   price    40455 non-null  int64  \n",
      " 7   x        40455 non-null  float64\n",
      " 8   y        40455 non-null  float64\n",
      " 9   z        40455 non-null  float64\n",
      "dtypes: float64(6), int64(1), object(3)\n",
      "memory usage: 3.1+ MB\n"
     ]
    }
   ],
   "source": [
    "# Смотрим info нашего датасета\n",
    "\n",
    "train_df.info()"
   ]
  },
  {
   "cell_type": "code",
   "execution_count": 5,
   "id": "f679d538",
   "metadata": {},
   "outputs": [
    {
     "data": {
      "text/plain": [
       "carat      0\n",
       "cut        0\n",
       "color      0\n",
       "clarity    0\n",
       "depth      0\n",
       "table      0\n",
       "price      0\n",
       "x          0\n",
       "y          0\n",
       "z          0\n",
       "dtype: int64"
      ]
     },
     "execution_count": 5,
     "metadata": {},
     "output_type": "execute_result"
    }
   ],
   "source": [
    "# Проверяем на ненулевые значения\n",
    "\n",
    "train_df.isnull().sum()"
   ]
  },
  {
   "cell_type": "code",
   "execution_count": 6,
   "id": "de0bb38b",
   "metadata": {},
   "outputs": [
    {
     "data": {
      "text/plain": [
       "carat       0\n",
       "cut         0\n",
       "color       0\n",
       "clarity     0\n",
       "depth       0\n",
       "table       0\n",
       "price       0\n",
       "x           8\n",
       "y           7\n",
       "z          14\n",
       "dtype: int64"
      ]
     },
     "execution_count": 6,
     "metadata": {},
     "output_type": "execute_result"
    }
   ],
   "source": [
    "train_df.loc[(train_df.x == 0), 'x'] = None\n",
    "train_df.loc[(train_df.y == 0), 'y'] = None\n",
    "train_df.loc[(train_df.z == 0), 'z'] = None\n",
    "train_df.isnull().sum()"
   ]
  },
  {
   "cell_type": "code",
   "execution_count": 7,
   "id": "ca8689fc",
   "metadata": {},
   "outputs": [
    {
     "data": {
      "text/plain": [
       "(40455, 10)"
      ]
     },
     "execution_count": 7,
     "metadata": {},
     "output_type": "execute_result"
    }
   ],
   "source": [
    "train_df.shape"
   ]
  },
  {
   "cell_type": "code",
   "execution_count": 8,
   "id": "1805a4da",
   "metadata": {},
   "outputs": [
    {
     "data": {
      "text/plain": [
       "carat      0\n",
       "cut        0\n",
       "color      0\n",
       "clarity    0\n",
       "depth      0\n",
       "table      0\n",
       "price      0\n",
       "x          0\n",
       "y          0\n",
       "z          0\n",
       "dtype: int64"
      ]
     },
     "execution_count": 8,
     "metadata": {},
     "output_type": "execute_result"
    }
   ],
   "source": [
    "train_df = train_df.dropna()\n",
    "train_df.isnull().sum()"
   ]
  },
  {
   "cell_type": "code",
   "execution_count": 9,
   "id": "6ccdbd34",
   "metadata": {},
   "outputs": [
    {
     "data": {
      "text/plain": [
       "(40441, 10)"
      ]
     },
     "execution_count": 9,
     "metadata": {},
     "output_type": "execute_result"
    }
   ],
   "source": [
    "train_df.shape"
   ]
  },
  {
   "cell_type": "code",
   "execution_count": 10,
   "id": "06a12ab1",
   "metadata": {},
   "outputs": [
    {
     "name": "stdout",
     "output_type": "stream",
     "text": [
      "Уникальные значения столбца cut:  ['Ideal' 'Premium' 'Very Good' 'Good' 'Fair']\n",
      "Уникальные значения столбца clarity:  ['SI1' 'SI2' 'VS2' 'VS1' 'VVS1' 'VVS2' 'IF' 'I1']\n",
      "Уникальные значения столбца color:  ['I' 'E' 'D' 'H' 'F' 'G' 'J']\n"
     ]
    }
   ],
   "source": [
    "# Смотрим уникальные значения в стриговых столбцах\n",
    "\n",
    "print('Уникальные значения столбца cut: ', train_df['cut'].unique())\n",
    "print('Уникальные значения столбца clarity: ', train_df['clarity'].unique())\n",
    "print('Уникальные значения столбца color: ', train_df['color'].unique())"
   ]
  },
  {
   "cell_type": "code",
   "execution_count": 11,
   "id": "d8014855",
   "metadata": {},
   "outputs": [
    {
     "name": "stdout",
     "output_type": "stream",
     "text": [
      "Перекодированный словарь cut:  {0: 'Fair', 1: 'Good', 2: 'Ideal', 3: 'Premium', 4: 'Very Good'}\n",
      "Перекодированный словарь color:  {0: 'D', 1: 'E', 2: 'F', 3: 'G', 4: 'H', 5: 'I', 6: 'J'}\n",
      "Перекодированный словарь clarity:  {0: 'I1', 1: 'IF', 2: 'SI1', 3: 'SI2', 4: 'VS1', 5: 'VS2', 6: 'VVS1', 7: 'VVS2'}\n"
     ]
    }
   ],
   "source": [
    "encoder = LabelEncoder()\n",
    "\n",
    "train_df[\"cut\"] = encoder.fit_transform(train_df['cut'])\n",
    "encode_cut = {index : label for index, label in enumerate(encoder.classes_)}\n",
    "train_df[\"color\"] = encoder.fit_transform(train_df['color'])\n",
    "encode_color = {index : label for index, label in enumerate(encoder.classes_)}\n",
    "train_df['clarity'] = encoder.fit_transform(train_df['clarity'])\n",
    "encode_clarity = {index : label for index, label in enumerate(encoder.classes_)}\n",
    "\n",
    "print('Перекодированный словарь cut: ', encode_cut)\n",
    "print('Перекодированный словарь color: ', encode_color)\n",
    "print('Перекодированный словарь clarity: ', encode_clarity)"
   ]
  },
  {
   "cell_type": "code",
   "execution_count": 12,
   "id": "1ae8b97a",
   "metadata": {},
   "outputs": [
    {
     "data": {
      "text/html": [
       "<div>\n",
       "<style scoped>\n",
       "    .dataframe tbody tr th:only-of-type {\n",
       "        vertical-align: middle;\n",
       "    }\n",
       "\n",
       "    .dataframe tbody tr th {\n",
       "        vertical-align: top;\n",
       "    }\n",
       "\n",
       "    .dataframe thead th {\n",
       "        text-align: right;\n",
       "    }\n",
       "</style>\n",
       "<table border=\"1\" class=\"dataframe\">\n",
       "  <thead>\n",
       "    <tr style=\"text-align: right;\">\n",
       "      <th></th>\n",
       "      <th>carat</th>\n",
       "      <th>cut</th>\n",
       "      <th>color</th>\n",
       "      <th>clarity</th>\n",
       "      <th>depth</th>\n",
       "      <th>table</th>\n",
       "      <th>price</th>\n",
       "      <th>x</th>\n",
       "      <th>y</th>\n",
       "      <th>z</th>\n",
       "    </tr>\n",
       "  </thead>\n",
       "  <tbody>\n",
       "    <tr>\n",
       "      <th>0</th>\n",
       "      <td>0.55</td>\n",
       "      <td>2</td>\n",
       "      <td>5</td>\n",
       "      <td>2</td>\n",
       "      <td>61.7</td>\n",
       "      <td>55.0</td>\n",
       "      <td>1134</td>\n",
       "      <td>5.29</td>\n",
       "      <td>5.31</td>\n",
       "      <td>3.27</td>\n",
       "    </tr>\n",
       "    <tr>\n",
       "      <th>1</th>\n",
       "      <td>0.94</td>\n",
       "      <td>3</td>\n",
       "      <td>1</td>\n",
       "      <td>2</td>\n",
       "      <td>62.4</td>\n",
       "      <td>56.0</td>\n",
       "      <td>4580</td>\n",
       "      <td>6.27</td>\n",
       "      <td>6.24</td>\n",
       "      <td>3.90</td>\n",
       "    </tr>\n",
       "    <tr>\n",
       "      <th>2</th>\n",
       "      <td>0.33</td>\n",
       "      <td>3</td>\n",
       "      <td>1</td>\n",
       "      <td>3</td>\n",
       "      <td>60.0</td>\n",
       "      <td>59.0</td>\n",
       "      <td>594</td>\n",
       "      <td>4.49</td>\n",
       "      <td>4.47</td>\n",
       "      <td>2.69</td>\n",
       "    </tr>\n",
       "    <tr>\n",
       "      <th>3</th>\n",
       "      <td>0.31</td>\n",
       "      <td>2</td>\n",
       "      <td>0</td>\n",
       "      <td>5</td>\n",
       "      <td>59.4</td>\n",
       "      <td>56.0</td>\n",
       "      <td>879</td>\n",
       "      <td>4.45</td>\n",
       "      <td>4.40</td>\n",
       "      <td>2.63</td>\n",
       "    </tr>\n",
       "    <tr>\n",
       "      <th>4</th>\n",
       "      <td>2.01</td>\n",
       "      <td>4</td>\n",
       "      <td>4</td>\n",
       "      <td>2</td>\n",
       "      <td>62.8</td>\n",
       "      <td>59.0</td>\n",
       "      <td>17759</td>\n",
       "      <td>7.99</td>\n",
       "      <td>8.04</td>\n",
       "      <td>5.03</td>\n",
       "    </tr>\n",
       "  </tbody>\n",
       "</table>\n",
       "</div>"
      ],
      "text/plain": [
       "   carat  cut  color  clarity  depth  table  price     x     y     z\n",
       "0   0.55    2      5        2   61.7   55.0   1134  5.29  5.31  3.27\n",
       "1   0.94    3      1        2   62.4   56.0   4580  6.27  6.24  3.90\n",
       "2   0.33    3      1        3   60.0   59.0    594  4.49  4.47  2.69\n",
       "3   0.31    2      0        5   59.4   56.0    879  4.45  4.40  2.63\n",
       "4   2.01    4      4        2   62.8   59.0  17759  7.99  8.04  5.03"
      ]
     },
     "execution_count": 12,
     "metadata": {},
     "output_type": "execute_result"
    }
   ],
   "source": [
    "train_df.head()"
   ]
  },
  {
   "cell_type": "code",
   "execution_count": 13,
   "id": "1374e6a6",
   "metadata": {},
   "outputs": [
    {
     "data": {
      "text/html": [
       "<div>\n",
       "<style scoped>\n",
       "    .dataframe tbody tr th:only-of-type {\n",
       "        vertical-align: middle;\n",
       "    }\n",
       "\n",
       "    .dataframe tbody tr th {\n",
       "        vertical-align: top;\n",
       "    }\n",
       "\n",
       "    .dataframe thead th {\n",
       "        text-align: right;\n",
       "    }\n",
       "</style>\n",
       "<table border=\"1\" class=\"dataframe\">\n",
       "  <thead>\n",
       "    <tr style=\"text-align: right;\">\n",
       "      <th></th>\n",
       "      <th>carat</th>\n",
       "      <th>cut</th>\n",
       "      <th>color</th>\n",
       "      <th>clarity</th>\n",
       "      <th>depth</th>\n",
       "      <th>table</th>\n",
       "      <th>x</th>\n",
       "      <th>y</th>\n",
       "      <th>z</th>\n",
       "    </tr>\n",
       "  </thead>\n",
       "  <tbody>\n",
       "    <tr>\n",
       "      <th>0</th>\n",
       "      <td>0.55</td>\n",
       "      <td>2</td>\n",
       "      <td>5</td>\n",
       "      <td>2</td>\n",
       "      <td>61.7</td>\n",
       "      <td>55.0</td>\n",
       "      <td>5.29</td>\n",
       "      <td>5.31</td>\n",
       "      <td>3.27</td>\n",
       "    </tr>\n",
       "    <tr>\n",
       "      <th>1</th>\n",
       "      <td>0.94</td>\n",
       "      <td>3</td>\n",
       "      <td>1</td>\n",
       "      <td>2</td>\n",
       "      <td>62.4</td>\n",
       "      <td>56.0</td>\n",
       "      <td>6.27</td>\n",
       "      <td>6.24</td>\n",
       "      <td>3.90</td>\n",
       "    </tr>\n",
       "    <tr>\n",
       "      <th>2</th>\n",
       "      <td>0.33</td>\n",
       "      <td>3</td>\n",
       "      <td>1</td>\n",
       "      <td>3</td>\n",
       "      <td>60.0</td>\n",
       "      <td>59.0</td>\n",
       "      <td>4.49</td>\n",
       "      <td>4.47</td>\n",
       "      <td>2.69</td>\n",
       "    </tr>\n",
       "    <tr>\n",
       "      <th>3</th>\n",
       "      <td>0.31</td>\n",
       "      <td>2</td>\n",
       "      <td>0</td>\n",
       "      <td>5</td>\n",
       "      <td>59.4</td>\n",
       "      <td>56.0</td>\n",
       "      <td>4.45</td>\n",
       "      <td>4.40</td>\n",
       "      <td>2.63</td>\n",
       "    </tr>\n",
       "    <tr>\n",
       "      <th>4</th>\n",
       "      <td>2.01</td>\n",
       "      <td>4</td>\n",
       "      <td>4</td>\n",
       "      <td>2</td>\n",
       "      <td>62.8</td>\n",
       "      <td>59.0</td>\n",
       "      <td>7.99</td>\n",
       "      <td>8.04</td>\n",
       "      <td>5.03</td>\n",
       "    </tr>\n",
       "  </tbody>\n",
       "</table>\n",
       "</div>"
      ],
      "text/plain": [
       "   carat  cut  color  clarity  depth  table     x     y     z\n",
       "0   0.55    2      5        2   61.7   55.0  5.29  5.31  3.27\n",
       "1   0.94    3      1        2   62.4   56.0  6.27  6.24  3.90\n",
       "2   0.33    3      1        3   60.0   59.0  4.49  4.47  2.69\n",
       "3   0.31    2      0        5   59.4   56.0  4.45  4.40  2.63\n",
       "4   2.01    4      4        2   62.8   59.0  7.99  8.04  5.03"
      ]
     },
     "execution_count": 13,
     "metadata": {},
     "output_type": "execute_result"
    }
   ],
   "source": [
    "# Выносим из тренировочного датасета столбец с price\n",
    "\n",
    "y = train_df['price']\n",
    "X = train_df.drop('price', axis=1)\n",
    "\n",
    "X.head()"
   ]
  },
  {
   "cell_type": "code",
   "execution_count": 14,
   "id": "27e2a227",
   "metadata": {},
   "outputs": [
    {
     "data": {
      "text/plain": [
       "<AxesSubplot:>"
      ]
     },
     "execution_count": 14,
     "metadata": {},
     "output_type": "execute_result"
    },
    {
     "data": {
      "image/png": "[encoded data removed]",
      "text/plain": [
       "<Figure size 1008x576 with 1 Axes>"
      ]
     },
     "metadata": {
      "needs_background": "light"
     },
     "output_type": "display_data"
    }
   ],
   "source": [
    "fig, ax = plt.subplots(figsize=(14,8))\n",
    "corr = train_df.corr()\n",
    "sns.heatmap(corr, annot=True, cmap='RdBu', vmin=-1, vmax=1, fmt='.2f', cbar=False)"
   ]
  },
  {
   "cell_type": "code",
   "execution_count": 15,
   "id": "7938642b",
   "metadata": {},
   "outputs": [],
   "source": [
    "# Разделяем датасет на трейн и тест\n",
    "\n",
    "X_train, X_test, y_train, y_test = train_test_split(X, y, test_size=0.2, random_state=0)"
   ]
  },
  {
   "cell_type": "code",
   "execution_count": 16,
   "id": "7291cc0c",
   "metadata": {},
   "outputs": [
    {
     "data": {
      "text/plain": [
       "Lasso(alpha=1)"
      ]
     },
     "execution_count": 16,
     "metadata": {},
     "output_type": "execute_result"
    }
   ],
   "source": [
    "std_model = LinearRegression()\n",
    "ridge_model = Ridge(alpha=1)\n",
    "lasso_model = Lasso(alpha=1)\n",
    "\n",
    "std_model.fit(X_train, y_train)\n",
    "ridge_model.fit(X_train, y_train)\n",
    "lasso_model.fit(X_train, y_train)"
   ]
  },
  {
   "cell_type": "code",
   "execution_count": 17,
   "id": "0fae6e47",
   "metadata": {},
   "outputs": [
    {
     "name": "stdout",
     "output_type": "stream",
     "text": [
      "Without regression: 0.8848262592926828\n",
      "Without regression test: 0.8854914482198818\n",
      "\n",
      "Ridge Regression: 0.8848253755757771\n",
      "Ridge Regression test: 0.885497074239709\n",
      "\n",
      "Lasso regression: 0.8848086025438465\n",
      "Lasso regression test: 0.8854861582182737\n"
     ]
    }
   ],
   "source": [
    "print(f\"Without regression: {std_model.score(X_train, y_train)}\")\n",
    "print(f\"Without regression test: {std_model.score(X_test, y_test)}\")\n",
    "\n",
    "print(f\"\\nRidge Regression: {ridge_model.score(X_train, y_train)}\")\n",
    "print(f\"Ridge Regression test: {ridge_model.score(X_test, y_test)}\")\n",
    "\n",
    "print(f\"\\nLasso regression: {lasso_model.score(X_train, y_train)}\")\n",
    "print(f\"Lasso regression test: {lasso_model.score(X_test, y_test)}\")"
   ]
  },
  {
   "cell_type": "code",
   "execution_count": 18,
   "id": "ea9c3687",
   "metadata": {},
   "outputs": [
    {
     "data": {
      "text/plain": [
       "Pipeline(steps=[('minmaxscaler', MinMaxScaler()),\n",
       "                ('polynomialfeatures', PolynomialFeatures(include_bias=False)),\n",
       "                ('lasso', Lasso())])"
      ]
     },
     "execution_count": 18,
     "metadata": {},
     "output_type": "execute_result"
    }
   ],
   "source": [
    "std_model_p = make_pipeline(MinMaxScaler(), LinearRegression())\n",
    "std_model_p.fit(X_train, y_train)\n",
    "\n",
    "ridge_model_p = make_pipeline(MinMaxScaler(), PolynomialFeatures(degree=2, include_bias=False), Ridge())\n",
    "ridge_model_p.fit(X_train, y_train)\n",
    "\n",
    "lasso_model_p = make_pipeline(MinMaxScaler(), PolynomialFeatures(degree=2, include_bias=False), Lasso())\n",
    "lasso_model_p.fit(X_train, y_train)"
   ]
  },
  {
   "cell_type": "code",
   "execution_count": 19,
   "id": "ecefcd73",
   "metadata": {},
   "outputs": [
    {
     "name": "stdout",
     "output_type": "stream",
     "text": [
      "Without regression: 0.8848262592926828\n",
      "Without regression: 0.8854914482198818\n",
      "\n",
      "Ridge Regression : 0.9263063966881754\n",
      "Ridge Regression : 0.9251732275324236\n",
      "\n",
      "Lasso regression: 0.9230731455460802\n",
      "Lasso regression: 0.9220828041833764\n",
      "Количество использованных признаков: 17\n"
     ]
    }
   ],
   "source": [
    "print(f\"Without regression: {std_model_p.score(X_train, y_train)}\")\n",
    "print(f\"Without regression: {std_model_p.score(X_test, y_test)}\")\n",
    "\n",
    "print(f\"\\nRidge Regression : {ridge_model_p.score(X_train, y_train)}\")\n",
    "print(f\"Ridge Regression : {ridge_model_p.score(X_test, y_test)}\")\n",
    "\n",
    "print(f\"\\nLasso regression: {lasso_model_p.score(X_train, y_train)}\")\n",
    "print(f\"Lasso regression: {lasso_model_p.score(X_test, y_test)}\")\n",
    "print(\"Количество использованных признаков: {}\".format(np.sum(lasso_model_p.named_steps['lasso'].coef_ != 0)))"
   ]
  },
  {
   "cell_type": "code",
   "execution_count": 24,
   "id": "3c4800a2",
   "metadata": {},
   "outputs": [],
   "source": [
    "pipeline_final = make_pipeline(MinMaxScaler(), PolynomialFeatures(degree=2, include_bias=False), Lasso())\n",
    "pipeline_final.fit(X_train, y_train)\n",
    "\n",
    "df_test = pd.read_csv(\"test.csv\")\n",
    "\n",
    "df_test[\"cut\"] = encoder.fit_transform(df_test['cut'])\n",
    "encode_cut = {index : label for index, label in enumerate(encoder.classes_)}\n",
    "df_test[\"color\"] = encoder.fit_transform(df_test['color'])\n",
    "encode_color = {index : label for index, label in enumerate(encoder.classes_)}\n",
    "df_test['clarity'] = encoder.fit_transform(df_test['clarity'])\n",
    "encode_clarity = {index : label for index, label in enumerate(encoder.classes_)}\n",
    "\n",
    "y_predict = pipeline_final.predict(df_test)"
   ]
  }
 ],
 "metadata": {
  "kernelspec": {
   "display_name": "Python 3",
   "language": "python",
   "name": "python3"
  },
  "language_info": {
   "codemirror_mode": {
    "name": "ipython",
    "version": 3
   },
   "file_extension": ".py",
   "mimetype": "text/x-python",
   "name": "python",
   "nbconvert_exporter": "python",
   "pygments_lexer": "ipython3",
   "version": "3.8.8"
  }
 },
 "nbformat": 4,
 "nbformat_minor": 5
}
